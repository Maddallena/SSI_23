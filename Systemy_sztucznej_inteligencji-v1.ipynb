{
 "cells": [
  {
   "cell_type": "markdown",
   "id": "c7f3da9b",
   "metadata": {},
   "source": [
    "# LAB_1"
   ]
  },
  {
   "cell_type": "markdown",
   "id": "f88bd6f7",
   "metadata": {},
   "source": [
    "### zad_1"
   ]
  },
  {
   "cell_type": "code",
   "execution_count": 1,
   "id": "334df5d1",
   "metadata": {},
   "outputs": [],
   "source": [
    "import pandas as pd\n",
    "\n",
    "def probki(nazwa_pliku_z_wartosciami):\n",
    "    df = pd.read_csv(nazwa_pliku_z_wartosciami, header=None, delim_whitespace=True)\n",
    "    return df\n",
    "    \n",
    "def atrybuty(nazwa_pliku_atrybuty):\n",
    "    df = pd.read_csv(nazwa_pliku_atrybuty, header=None, delim_whitespace=True)\n",
    "    nazwy_atr = df.iloc[:,:-1]\n",
    "    symb_atr = df.iloc[:,-1]\n",
    "    return nazwy_atr, symb_atr\n"
   ]
  },
  {
   "cell_type": "code",
   "execution_count": 2,
   "id": "549516ae",
   "metadata": {},
   "outputs": [
    {
     "name": "stdout",
     "output_type": "stream",
     "text": [
      "4.9\n",
      "\n"
     ]
    }
   ],
   "source": [
    "a = probki('iris.txt')\n",
    "print(a[0][2])\n",
    "b = atrybuty('iris-type.txt')\n",
    "print()"
   ]
  },
  {
   "cell_type": "markdown",
   "id": "e9b70c29",
   "metadata": {},
   "source": [
    "### obiektowo"
   ]
  },
  {
   "cell_type": "code",
   "execution_count": 3,
   "id": "374d8c16",
   "metadata": {},
   "outputs": [],
   "source": [
    "import pandas as pd\n",
    "\n",
    "class Data():\n",
    "    \n",
    "    \n",
    "    def __init__(self, nazwa_pliku_z_wartosciami, nazwa_pliku_atrybuty):\n",
    "        \n",
    "        try: \n",
    "            \n",
    "            self.values_df = pd.read_csv(nazwa_pliku_z_wartosciami, header=None, delim_whitespace=True)\n",
    "            self.names_df = pd.read_csv(nazwa_pliku_atrybuty, header=None, delim_whitespace=True)\n",
    "            self.nazwy_atr = self.names_df[0].tolist()\n",
    "            self.atr_symb = self.names_df[1].tolist()\n",
    "        except:\n",
    "            print(\"Error occured\")\n",
    "            raise \n",
    "#         except FileNotFoundError as e1:\n",
    "#             print(e1)\n",
    "# #             raise e1\n",
    "#         except ParserError as e2:\n",
    "#             print(e2)\n",
    "#             raise e2\n",
    "            \n",
    "    \n",
    "    def czy_atr_symb(self, ind):\n",
    "        return True if self.atr_symb[ind] == \"s\" else False\n",
    "\n",
    "        "
   ]
  },
  {
   "cell_type": "code",
   "execution_count": 4,
   "id": "a6469e8a",
   "metadata": {},
   "outputs": [
    {
     "data": {
      "text/plain": [
       "'petal_length_in_cm'"
      ]
     },
     "execution_count": 4,
     "metadata": {},
     "output_type": "execute_result"
    }
   ],
   "source": [
    "p = Data('iris.txt', 'iris-type.txt')\n",
    "p.nazwy_atr[2]"
   ]
  },
  {
   "cell_type": "code",
   "execution_count": 5,
   "id": "c2e028ee",
   "metadata": {},
   "outputs": [
    {
     "data": {
      "text/plain": [
       "True"
      ]
     },
     "execution_count": 5,
     "metadata": {},
     "output_type": "execute_result"
    }
   ],
   "source": [
    "lista_a = p.czy_atr_symb(4)\n",
    "lista_a\n"
   ]
  },
  {
   "cell_type": "code",
   "execution_count": 6,
   "id": "4a6be08c",
   "metadata": {},
   "outputs": [
    {
     "data": {
      "text/plain": [
       "'sepal_width_in_cm'"
      ]
     },
     "execution_count": 6,
     "metadata": {},
     "output_type": "execute_result"
    }
   ],
   "source": [
    "p.nazwy_atr[1]"
   ]
  },
  {
   "cell_type": "code",
   "execution_count": null,
   "id": "f56a0fe3",
   "metadata": {},
   "outputs": [],
   "source": []
  },
  {
   "cell_type": "markdown",
   "id": "15ff1c84",
   "metadata": {},
   "source": [
    "# LAB_2"
   ]
  },
  {
   "cell_type": "code",
   "execution_count": 7,
   "id": "226dca8a",
   "metadata": {},
   "outputs": [
    {
     "data": {
      "image/png": "[encoded data removed]",
      "text/plain": [
       "<Figure size 432x288 with 1 Axes>"
      ]
     },
     "metadata": {
      "needs_background": "light"
     },
     "output_type": "display_data"
    }
   ],
   "source": [
    "import matplotlib.pyplot as plt\n",
    "import matplotlib.path as mpath\n",
    "import matplotlib.patches as mpatches\n",
    "import numpy as np\n",
    "\n",
    "\n",
    "num_sides = 17\n",
    "\n",
    "\n",
    "theta = np.linspace(0, 2*np.pi, num_sides, endpoint=True)\n",
    "vertices = np.column_stack([np.cos(theta)*2, np.sin(theta)*2])\n",
    "\n",
    "path = mpath.Path(vertices)\n",
    "\n",
    "\n",
    "patch = mpatches.PathPatch(path,ec=\"red\",facecolor=\"none\",lw=3,label='lamane')\n",
    "\n",
    "\n",
    "# Add the patch to a figure\n",
    "fig, ax = plt.subplots()\n",
    "ax.add_patch(patch)\n",
    "ax.set_xlim(-3, 3)\n",
    "ax.set_ylim(-3, 3)\n",
    "plt.grid()\n",
    "ax.set_axisbelow(True)\n",
    "plt.scatter([-1,0,1],[1,0,1], marker=\"D\", label='punkty')\n",
    "x = np.linspace(-1, 1, 100)\n",
    "y = -np.sin(np.arccos(x))\n",
    "plt.plot(x,y,color=\"green\",label='sinus')\n",
    "plt.legend()\n",
    "plt.show()"
   ]
  },
  {
   "cell_type": "code",
   "execution_count": 8,
   "id": "4cc4ceff",
   "metadata": {},
   "outputs": [
    {
     "name": "stdout",
     "output_type": "stream",
     "text": [
      "       0    1    2    3  4\n",
      "0    6.5  3.0  5.2  2.0  3\n",
      "1    5.1  2.5  3.0  1.1  2\n",
      "2    4.9  3.1  1.5  0.1  1\n",
      "3    4.9  3.1  1.5  0.1  1\n",
      "4    6.8  3.0  5.5  2.1  3\n",
      "..   ...  ...  ...  ... ..\n",
      "145  7.6  3.0  6.6  2.1  3\n",
      "146  5.5  2.6  4.4  1.2  2\n",
      "147  5.5  3.5  1.3  0.2  1\n",
      "148  6.4  3.1  5.5  1.8  3\n",
      "149  5.4  3.0  4.5  1.5  2\n",
      "\n",
      "[150 rows x 5 columns]\n"
     ]
    }
   ],
   "source": [
    "print(p.values_df)"
   ]
  },
  {
   "cell_type": "code",
   "execution_count": 9,
   "id": "6f0f3917",
   "metadata": {},
   "outputs": [
    {
     "data": {
      "text/html": [
       "<div>\n",
       "<style scoped>\n",
       "    .dataframe tbody tr th:only-of-type {\n",
       "        vertical-align: middle;\n",
       "    }\n",
       "\n",
       "    .dataframe tbody tr th {\n",
       "        vertical-align: top;\n",
       "    }\n",
       "\n",
       "    .dataframe thead th {\n",
       "        text-align: right;\n",
       "    }\n",
       "</style>\n",
       "<table border=\"1\" class=\"dataframe\">\n",
       "  <thead>\n",
       "    <tr style=\"text-align: right;\">\n",
       "      <th></th>\n",
       "      <th>0</th>\n",
       "      <th>1</th>\n",
       "      <th>2</th>\n",
       "      <th>3</th>\n",
       "      <th>4</th>\n",
       "    </tr>\n",
       "  </thead>\n",
       "  <tbody>\n",
       "    <tr>\n",
       "      <th>0</th>\n",
       "      <td>6.5</td>\n",
       "      <td>3.0</td>\n",
       "      <td>5.2</td>\n",
       "      <td>2.0</td>\n",
       "      <td>3</td>\n",
       "    </tr>\n",
       "    <tr>\n",
       "      <th>1</th>\n",
       "      <td>5.1</td>\n",
       "      <td>2.5</td>\n",
       "      <td>3.0</td>\n",
       "      <td>1.1</td>\n",
       "      <td>2</td>\n",
       "    </tr>\n",
       "    <tr>\n",
       "      <th>2</th>\n",
       "      <td>4.9</td>\n",
       "      <td>3.1</td>\n",
       "      <td>1.5</td>\n",
       "      <td>0.1</td>\n",
       "      <td>1</td>\n",
       "    </tr>\n",
       "    <tr>\n",
       "      <th>3</th>\n",
       "      <td>4.9</td>\n",
       "      <td>3.1</td>\n",
       "      <td>1.5</td>\n",
       "      <td>0.1</td>\n",
       "      <td>1</td>\n",
       "    </tr>\n",
       "    <tr>\n",
       "      <th>4</th>\n",
       "      <td>6.8</td>\n",
       "      <td>3.0</td>\n",
       "      <td>5.5</td>\n",
       "      <td>2.1</td>\n",
       "      <td>3</td>\n",
       "    </tr>\n",
       "  </tbody>\n",
       "</table>\n",
       "</div>"
      ],
      "text/plain": [
       "     0    1    2    3  4\n",
       "0  6.5  3.0  5.2  2.0  3\n",
       "1  5.1  2.5  3.0  1.1  2\n",
       "2  4.9  3.1  1.5  0.1  1\n",
       "3  4.9  3.1  1.5  0.1  1\n",
       "4  6.8  3.0  5.5  2.1  3"
      ]
     },
     "execution_count": 9,
     "metadata": {},
     "output_type": "execute_result"
    }
   ],
   "source": [
    "p.values_df.head()"
   ]
  },
  {
   "cell_type": "code",
   "execution_count": 10,
   "id": "c892afba",
   "metadata": {},
   "outputs": [],
   "source": [
    "class_1 = p.values_df[p.values_df[4] == 1]"
   ]
  },
  {
   "cell_type": "code",
   "execution_count": 11,
   "id": "9959505b",
   "metadata": {},
   "outputs": [],
   "source": [
    "# print(class_1)"
   ]
  },
  {
   "cell_type": "code",
   "execution_count": 12,
   "id": "070a4d54",
   "metadata": {},
   "outputs": [],
   "source": [
    "class_2 = p.values_df[p.values_df[4] == 2]"
   ]
  },
  {
   "cell_type": "code",
   "execution_count": 13,
   "id": "9990ba89",
   "metadata": {},
   "outputs": [],
   "source": [
    "# print(class_2)"
   ]
  },
  {
   "cell_type": "code",
   "execution_count": 14,
   "id": "e39c5287",
   "metadata": {},
   "outputs": [],
   "source": [
    "class_3 = p.values_df[p.values_df[4] == 3]"
   ]
  },
  {
   "cell_type": "code",
   "execution_count": 15,
   "id": "2d4c32ce",
   "metadata": {},
   "outputs": [],
   "source": [
    "# print(class_3)"
   ]
  },
  {
   "cell_type": "code",
   "execution_count": 16,
   "id": "4e16d201",
   "metadata": {},
   "outputs": [],
   "source": [
    "# plt.plot(x=p.values_df[2], y=p.values_df[4], kind='scatter')\n",
    "# plt.show()\n",
    "# print(p.values_df[2])\n",
    "# print(p.values_df)"
   ]
  },
  {
   "cell_type": "code",
   "execution_count": 17,
   "id": "200c2a0b",
   "metadata": {},
   "outputs": [],
   "source": [
    "# p.values_df.plot()"
   ]
  },
  {
   "cell_type": "code",
   "execution_count": 18,
   "id": "01cdbc5e",
   "metadata": {},
   "outputs": [
    {
     "data": {
      "image/png": "[encoded data removed]",
      "text/plain": [
       "<Figure size 432x288 with 1 Axes>"
      ]
     },
     "metadata": {
      "needs_background": "light"
     },
     "output_type": "display_data"
    }
   ],
   "source": [
    "plt.title('plot1')\n",
    "plt.xlabel('petal_length_in_cm')\n",
    "plt.ylabel('petal_width_in_cm')\n",
    "plt.scatter(class_1[2], class_1[3], color = 'red', label = 'Setosa', alpha = 0.5)\n",
    "plt.scatter(class_2[2], class_2[3], color = 'lime', label = 'Versicolour', alpha = 0.5)\n",
    "plt.scatter(class_3[2], class_3[3], color = 'blue', label = 'Virginica', alpha = 0.5)\n",
    "plt.legend()\n",
    "plt.show()"
   ]
  },
  {
   "cell_type": "code",
   "execution_count": 19,
   "id": "514c6689",
   "metadata": {},
   "outputs": [
    {
     "data": {
      "text/plain": [
       "<matplotlib.legend.Legend at 0x2baae140f40>"
      ]
     },
     "execution_count": 19,
     "metadata": {},
     "output_type": "execute_result"
    },
    {
     "data": {
      "image/png": "[encoded data removed]",
      "text/plain": [
       "<Figure size 1080x1080 with 4 Axes>"
      ]
     },
     "metadata": {
      "needs_background": "light"
     },
     "output_type": "display_data"
    }
   ],
   "source": [
    "fig, ((ax1, ax2), (ax3, ax4)) = plt.subplots(2, 2, figsize=(15,15), sharex=False, sharey=False)\n",
    "\n",
    "ax1.title.set_text('Wykres 1')\n",
    "ax1.scatter(class_1[2], class_1[3], color = 'red', label = 'Setosa', alpha = 0.5)\n",
    "ax1.scatter(class_2[2], class_2[3], color = 'lime', label = 'Versicolour', alpha = 0.5)\n",
    "ax1.scatter(class_3[2], class_3[3], color = 'blue', label = 'Virginica', alpha = 0.5)\n",
    "ax1.set(xlabel='petal_length_in_cm', ylabel='petal_width_in_cm')\n",
    "ax1.legend(loc=2)\n",
    "\n",
    "ax2.title.set_text('Wykres 2')\n",
    "ax2.scatter(class_1[1], class_1[3], color = 'red', label = 'Setosa', alpha = 0.5)\n",
    "ax2.scatter(class_2[1], class_2[3], color = 'lime', label = 'Versicolour', alpha = 0.5)\n",
    "ax2.scatter(class_3[1], class_3[3], color = 'blue', label = 'Virginica', alpha = 0.5)\n",
    "ax2.set(xlabel='sepal_width_in_cm', ylabel='petal_width_in_cm')\n",
    "ax2.legend(loc=2)\n",
    "\n",
    "\n",
    "ax3.title.set_text('Wykres 3')\n",
    "ax3.scatter(class_1[0], class_1[3], color = 'red', label = 'Setosa', alpha = 0.5)\n",
    "ax3.scatter(class_2[0], class_2[3], color = 'lime', label = 'Versicolour', alpha = 0.5)\n",
    "ax3.scatter(class_3[0], class_3[3], color = 'blue', label = 'Virginica', alpha = 0.5)\n",
    "ax3.set(xlabel='sepal_length_in_cm', ylabel='petal_width_in_cm')\n",
    "ax3.legend(loc=2)\n",
    "\n",
    "ax4.title.set_text('Wykres 4')\n",
    "ax4.scatter(class_1[1], class_1[2], color = 'red', label = 'Setosa', alpha = 0.5)\n",
    "ax4.scatter(class_2[1], class_2[2], color = 'lime', label = 'Versicolour', alpha = 0.5)\n",
    "ax4.scatter(class_3[1], class_3[2], color = 'blue', label = 'Virginica', alpha = 0.5)\n",
    "ax4.set(xlabel='sepal_width_in_cm', ylabel='petal_length_in_cm')\n",
    "ax4.legend(loc=2)"
   ]
  },
  {
   "cell_type": "markdown",
   "id": "31dd4adc",
   "metadata": {},
   "source": [
    "# LAB_3"
   ]
  },
  {
   "cell_type": "markdown",
   "id": "4304c2f2",
   "metadata": {},
   "source": [
    "## Tablica z numerami"
   ]
  },
  {
   "cell_type": "code",
   "execution_count": 20,
   "id": "bb7e9b4b",
   "metadata": {},
   "outputs": [],
   "source": [
    "def lengths(my_list):\n",
    "    subs = iter(my_list)\n",
    "    len_ = len(next(subs))\n",
    "    return all(len(sub) == len_ for sub in subs)"
   ]
  },
  {
   "cell_type": "code",
   "execution_count": 21,
   "id": "af630c49",
   "metadata": {},
   "outputs": [],
   "source": [
    "def floatable(my_list):\n",
    "    try:\n",
    "        a = [list(map(float, suba)) for suba in my_list]\n",
    "        return True\n",
    "    except ValueError:\n",
    "        return False"
   ]
  },
  {
   "cell_type": "code",
   "execution_count": 22,
   "id": "5ff63e98",
   "metadata": {},
   "outputs": [],
   "source": [
    "def tab_numerow(probki_str, numery_atr):\n",
    "    probki_num = []\n",
    "    f_tab = floatable(probki_str)\n",
    "    if lengths(probki_str) == True and f_tab == True:\n",
    "        a = [list(map(float, suba)) for suba in probki_str]\n",
    "        for i in range(len(a)):\n",
    "            probki_num.append([])\n",
    "            for j in range(len(a[i])):\n",
    "                if j in numery_atr:\n",
    "                    probki_num[i].append(a[i][j])\n",
    "    else:\n",
    "        return \"Popraw argumenty\"\n",
    "    return probki_num"
   ]
  },
  {
   "cell_type": "code",
   "execution_count": 23,
   "id": "26ccf7b7",
   "metadata": {},
   "outputs": [
    {
     "name": "stdout",
     "output_type": "stream",
     "text": [
      "Popraw argumenty\n"
     ]
    }
   ],
   "source": [
    "print(tab_numerow([['1', '5', '8'],['2', '7', 'a']], [0,2])) "
   ]
  },
  {
   "cell_type": "code",
   "execution_count": 24,
   "id": "bd8b89b3",
   "metadata": {},
   "outputs": [
    {
     "data": {
      "text/plain": [
       "2"
      ]
     },
     "execution_count": 24,
     "metadata": {},
     "output_type": "execute_result"
    }
   ],
   "source": [
    "len([['1', '5', '8'],['2', '7', '9']])"
   ]
  },
  {
   "cell_type": "code",
   "execution_count": 25,
   "id": "4ecd9a14",
   "metadata": {},
   "outputs": [
    {
     "data": {
      "text/plain": [
       "False"
      ]
     },
     "execution_count": 25,
     "metadata": {},
     "output_type": "execute_result"
    }
   ],
   "source": [
    "tabsy = [['1', '5', '8'],['2', '7', '9'],['6','70']]\n",
    "lengths(tabsy)"
   ]
  },
  {
   "cell_type": "markdown",
   "id": "bff6cc0d",
   "metadata": {},
   "source": [
    "## Algorytm k-średnich"
   ]
  },
  {
   "cell_type": "code",
   "execution_count": 26,
   "id": "c6e4afc1",
   "metadata": {},
   "outputs": [],
   "source": [
    "import numpy as np\n",
    "import matplotlib.pyplot as plt"
   ]
  },
  {
   "cell_type": "code",
   "execution_count": 27,
   "id": "5826adb0",
   "metadata": {},
   "outputs": [],
   "source": [
    "dane = []\n",
    "\n",
    "with open('spirala.txt', 'r') as file:\n",
    "    for line in file:\n",
    "        kolekcja = line.replace('\\n', '').split()\n",
    "        result = list(map(lambda e: float(e), kolekcja))\n",
    "        dane.append(result)\n",
    "        \n",
    "dane = np.array(dane)"
   ]
  },
  {
   "cell_type": "code",
   "execution_count": 28,
   "id": "46a76f46",
   "metadata": {
    "scrolled": true
   },
   "outputs": [],
   "source": [
    "def kmeans(X, k, max_iters=100):\n",
    "    # Inicjalizacja centroidów losowo z danych\n",
    "    centroids = X[np.random.choice(range(len(X)), k, replace=False)]\n",
    "    \n",
    "    for _ in range(max_iters):\n",
    "        # Przypisanie do klastrów, przez wyliczenie odległości, potem wyznaczenie najmniejszych \n",
    "        distances = np.linalg.norm(X[:, np.newaxis, :] - centroids, axis=2)\n",
    "        labels = np.argmin(distances, axis=1)\n",
    "        \n",
    "        # Aktualizacja centroidów\n",
    "        new_centroids = np.array([X[labels == j].mean(axis=0) for j in range(k)])\n",
    "        \n",
    "        # Sprawdzenie warunku stopu\n",
    "        if np.all(centroids == new_centroids):\n",
    "            break\n",
    "        \n",
    "        centroids = new_centroids\n",
    "    \n",
    "    return labels, centroids"
   ]
  },
  {
   "cell_type": "code",
   "execution_count": 29,
   "id": "75048665",
   "metadata": {},
   "outputs": [
    {
     "name": "stdout",
     "output_type": "stream",
     "text": [
      "[1 1 1 1 1 1 1 1 1 1 0 0 0 0 0 0 0 0 0 0 0 0 0 0 0 0 0 0 0 0 0 0 0 0 0 0 0\n",
      " 0 0 0 0 2 2 2 2 2 2 2 2 2 2 2 2 2 2 2 2 2 2 2 2 2 2 2 3 3 3 3 3 3 3 3 3 3\n",
      " 3 3 3 3 3 3 3 3 3 3 3 3 1 1 1 1 1 1 1 1 1 1 1 1 1 1 1] [[ 1.07198065 -0.04561935]\n",
      " [-0.374888    1.40072   ]\n",
      " [-0.2074913  -1.36808696]\n",
      " [-1.61180455 -0.02127273]]\n"
     ]
    }
   ],
   "source": [
    "k = 4\n",
    "labels, centroids = kmeans(dane, k)\n",
    "print(labels, centroids)"
   ]
  },
  {
   "cell_type": "code",
   "execution_count": 30,
   "id": "4da89d39",
   "metadata": {},
   "outputs": [
    {
     "data": {
      "image/png": "[encoded data removed]",
      "text/plain": [
       "<Figure size 432x288 with 1 Axes>"
      ]
     },
     "metadata": {
      "needs_background": "light"
     },
     "output_type": "display_data"
    }
   ],
   "source": [
    "plt.scatter(dane[:, 0], dane[:, 1], c=labels, cmap='plasma', alpha=0.7, edgecolors='b')\n",
    "plt.scatter(centroids[:, 0], centroids[:, 1], c='red', marker='X', s=200, label='Centroids')\n",
    "plt.show()"
   ]
  },
  {
   "cell_type": "markdown",
   "id": "a20e545a",
   "metadata": {},
   "source": [
    "# LAB_4"
   ]
  },
  {
   "cell_type": "markdown",
   "id": "b79d87b9",
   "metadata": {},
   "source": [
    "## Algorytm 1+1"
   ]
  },
  {
   "cell_type": "code",
   "execution_count": 7,
   "id": "6bad59e3",
   "metadata": {},
   "outputs": [],
   "source": [
    "import random\n",
    "import math\n",
    "import numpy as np\n",
    "import matplotlib.pyplot as plt"
   ]
  },
  {
   "cell_type": "code",
   "execution_count": 8,
   "id": "2567e4c8",
   "metadata": {},
   "outputs": [],
   "source": [
    "def alg_opo(rozrzut: int, wsp_przyrostu: float, l_iteracji: int, zakres_zmiennosci: tuple):\n",
    "    \n",
    "    x = random.randint(zakres_zmiennosci[0], zakres_zmiennosci[1])\n",
    "    y = np.sin(x/10) * np.sin(x/200)\n",
    "    \n",
    "    res = [(0, x, y, rozrzut)]\n",
    "    for l in range(l_iteracji):\n",
    "        x_pot = x + rozrzut*random.randint(-1,1)\n",
    "        \n",
    "        if x_pot < zakres_zmiennosci[0]:\n",
    "            x_pot = zakres_zmiennosci[0]\n",
    "        if x_pot > zakres_zmiennosci[1]:\n",
    "            x_pot = zakres_zmiennosci[1]\n",
    "        \n",
    "        y_pot = math.sin(x_pot/10) * math.sin(x_pot/200)\n",
    "        \n",
    "        if y_pot >= y:\n",
    "            x = x_pot\n",
    "            y = y_pot\n",
    "            rozrzut *= wsp_przyrostu\n",
    "        \n",
    "        if y_pot < y:\n",
    "            rozrzut /= wsp_przyrostu\n",
    "    \n",
    "        res.append((l+1, x, y, rozrzut))\n",
    "    \n",
    "    return res"
   ]
  },
  {
   "cell_type": "code",
   "execution_count": 9,
   "id": "6ee0c066",
   "metadata": {},
   "outputs": [
    {
     "data": {
      "image/png": "[encoded data removed]",
      "text/plain": [
       "<Figure size 432x288 with 1 Axes>"
      ]
     },
     "metadata": {
      "needs_background": "light"
     },
     "output_type": "display_data"
    }
   ],
   "source": [
    "algorytm_opo = alg_opo(10, 1.1, 100, (0,100))\n",
    "\n",
    "ax_x = np.linspace(0, 100, 2000)\n",
    "ax_y = np.sin(ax_x/10) * np.sin(ax_x/200)\n",
    "\n",
    "plt.plot(ax_x, ax_y)\n",
    "\n",
    "for el in algorytm_opo:\n",
    "    plt.plot(el[1], el[2], 'x', label=f'iteracja {el[0]}')\n",
    "\n",
    "#plt.legend()\n",
    "plt.show()"
   ]
  },
  {
   "cell_type": "markdown",
   "id": "eb45b561",
   "metadata": {},
   "source": [
    "# LAB_6"
   ]
  },
  {
   "cell_type": "markdown",
   "id": "f4d31cd5",
   "metadata": {},
   "source": [
    "## Algorytm zachłannego dopasowania punktu"
   ]
  },
  {
   "cell_type": "code",
   "execution_count": 34,
   "id": "9382ed19",
   "metadata": {},
   "outputs": [],
   "source": [
    "import numpy as np"
   ]
  },
  {
   "cell_type": "code",
   "execution_count": 35,
   "id": "e4546afd",
   "metadata": {},
   "outputs": [
    {
     "name": "stdout",
     "output_type": "stream",
     "text": [
      "[[0 0 0 1]\n",
      " [0 0 1 1]\n",
      " [0 1 0 1]\n",
      " [0 0 0 1]\n",
      " [0 0 0 1]] \n",
      "\n",
      "[[0 1 1 1]\n",
      " [1 0 0 1]\n",
      " [0 0 1 0]\n",
      " [0 1 0 0]\n",
      " [1 1 1 1]] \n",
      "\n",
      "[[1 1 1 0]\n",
      " [0 0 0 1]\n",
      " [1 1 1 1]\n",
      " [0 0 0 1]\n",
      " [1 1 1 0]] \n",
      "\n"
     ]
    }
   ],
   "source": [
    "znak_wzorcowy_1 = np.array([[0, 0, 0, 1],  \n",
    " [0, 0, 1, 1],\n",
    " [0, 1, 0, 1],\n",
    " [0, 0, 0, 1],\n",
    " [0, 0, 0, 1]])\n",
    "\n",
    "znak_wzorcowy_2 = np.array([[0, 1, 1, 1],  \n",
    " [1, 0, 0, 1],\n",
    " [0, 0, 1, 0],\n",
    " [0, 1, 0, 0],\n",
    " [1, 1, 1, 1]])\n",
    "\n",
    "znak_wzorcowy_3 = np.array([[1, 1, 1, 0],  \n",
    " [0, 0, 0, 1],\n",
    " [1, 1, 1, 1],\n",
    " [0, 0, 0, 1],\n",
    " [1, 1, 1, 0]])\n",
    "\n",
    "\n",
    "print(znak_wzorcowy_1,'\\n')\n",
    "\n",
    "print(znak_wzorcowy_2,'\\n')\n",
    "\n",
    "print(znak_wzorcowy_3,'\\n')"
   ]
  },
  {
   "cell_type": "code",
   "execution_count": 54,
   "id": "acd8d144",
   "metadata": {
    "scrolled": true
   },
   "outputs": [
    {
     "data": {
      "text/plain": [
       "<matplotlib.image.AxesImage at 0x2baaf31c190>"
      ]
     },
     "execution_count": 54,
     "metadata": {},
     "output_type": "execute_result"
    },
    {
     "data": {
      "image/png": "[encoded data removed]",
      "text/plain": [
       "<Figure size 1080x360 with 3 Axes>"
      ]
     },
     "metadata": {
      "needs_background": "light"
     },
     "output_type": "display_data"
    }
   ],
   "source": [
    "plt.figure(figsize=(15, 5))\n",
    "plt.subplot(131)\n",
    "plt.imshow(znak_wzorcowy_1, cmap='binary')\n",
    "\n",
    "plt.subplot(132)\n",
    "plt.imshow(znak_wzorcowy_2, cmap='binary')\n",
    "\n",
    "plt.subplot(133)\n",
    "plt.imshow(znak_wzorcowy_3, cmap='binary')"
   ]
  },
  {
   "cell_type": "code",
   "execution_count": 36,
   "id": "e7824775",
   "metadata": {},
   "outputs": [
    {
     "name": "stdout",
     "output_type": "stream",
     "text": [
      "[[0 0 0 0]\n",
      " [0 0 1 1]\n",
      " [0 1 1 1]\n",
      " [0 0 0 1]\n",
      " [0 0 0 1]] 5 \n",
      "\n",
      "[[1 1 1 1]\n",
      " [0 0 0 1]\n",
      " [1 1 1 1]\n",
      " [0 0 1 1]\n",
      " [1 1 1 1]] \n",
      "\n",
      "[[1 1 1 1]\n",
      " [0 0 0 1]\n",
      " [1 1 1 1]\n",
      " [0 0 0 1]\n",
      " [1 1 1 0]] \n",
      "\n"
     ]
    }
   ],
   "source": [
    "znak_testowy_1 = np.array([[0, 0, 0, 0],  \n",
    " [0, 0, 1, 1],\n",
    " [0, 1, 1, 1],\n",
    " [0, 0, 0, 1],\n",
    " [0, 0, 0, 1]])\n",
    "\n",
    "znak_testowy_2 = np.array([[1, 1, 1, 1],  \n",
    " [0, 0, 0, 1],\n",
    " [1, 1, 1, 1],\n",
    " [0, 0, 1, 1],\n",
    " [1, 1, 1, 1]])\n",
    "\n",
    "znak_testowy_3 = np.array([[1, 1, 1, 1],  \n",
    " [0, 0, 0, 1],\n",
    " [1, 1, 1, 1],\n",
    " [0, 0, 0, 1],\n",
    " [1, 1, 1, 0]])\n",
    "\n",
    "\n",
    "print(znak_testowy_1, len(znak_testowy_1),'\\n')\n",
    "\n",
    "print(znak_testowy_2,'\\n')\n",
    "\n",
    "print(znak_testowy_3,'\\n')"
   ]
  },
  {
   "cell_type": "code",
   "execution_count": 53,
   "id": "9c860e65",
   "metadata": {},
   "outputs": [
    {
     "data": {
      "text/plain": [
       "<matplotlib.image.AxesImage at 0x2baaf1f5f40>"
      ]
     },
     "execution_count": 53,
     "metadata": {},
     "output_type": "execute_result"
    },
    {
     "data": {
      "image/png": "[encoded data removed]",
      "text/plain": [
       "<Figure size 1080x360 with 3 Axes>"
      ]
     },
     "metadata": {
      "needs_background": "light"
     },
     "output_type": "display_data"
    }
   ],
   "source": [
    "plt.figure(figsize=(15, 5))\n",
    "plt.subplot(131)\n",
    "plt.imshow(znak_testowy_1, cmap='binary')\n",
    "\n",
    "plt.subplot(132)\n",
    "plt.imshow(znak_testowy_2, cmap='binary')\n",
    "\n",
    "plt.subplot(133)\n",
    "plt.imshow(znak_testowy_3, cmap='binary')"
   ]
  },
  {
   "cell_type": "code",
   "execution_count": 37,
   "id": "a15c2d65",
   "metadata": {},
   "outputs": [],
   "source": [
    "def alg_zachlannego_dopasowania(m_A, m_B):\n",
    "\n",
    "    cala_odleglosc = 0\n",
    "    \n",
    "    if len(m_A) != len(m_B) and len(m_A[0]) != len(m_B[0]):\n",
    "        return 'Błąd wielkości macierzy'\n",
    "    else:\n",
    "        for r_A in range(len(m_A)):\n",
    "            for k_A in range(len(m_A[0])):\n",
    "                if m_A[r_A][k_A] == 1:\n",
    "                    min_odl = float('inf')\n",
    "\n",
    "                    for k_B in range(len(m_B[0])):\n",
    "                        if m_B[r_A][k_B] == 1:\n",
    "                            odleglosc = abs(k_A - k_B)\n",
    "                            min_odl = min(min_odl, odleglosc)\n",
    "\n",
    "                    cala_odleglosc += min_odl\n",
    "\n",
    "    return cala_odleglosc"
   ]
  },
  {
   "cell_type": "code",
   "execution_count": 49,
   "id": "103e84fb",
   "metadata": {},
   "outputs": [],
   "source": [
    "import matplotlib.pyplot as plt"
   ]
  },
  {
   "cell_type": "code",
   "execution_count": 69,
   "id": "adf6b542",
   "metadata": {},
   "outputs": [
    {
     "name": "stdout",
     "output_type": "stream",
     "text": [
      "Miary niepodobienstwa dla znaku testowego nr 1 i znaku wzorcowego 1 wynosi: 1\n",
      "Miary niepodobienstwa dla znaku testowego nr 1 i znaku wzorcowego 2 wynosi: 5\n",
      "Miary niepodobienstwa dla znaku testowego nr 1 i znaku wzorcowego 3 wynosi: 2\n",
      "Miary niepodobienstwa dla znaku testowego nr 2 i znaku wzorcowego 1 wynosi: 15\n",
      "Miary niepodobienstwa dla znaku testowego nr 2 i znaku wzorcowego 2 wynosi: 8\n",
      "Miary niepodobienstwa dla znaku testowego nr 2 i znaku wzorcowego 3 wynosi: 3\n",
      "Miary niepodobienstwa dla znaku testowego nr 3 i znaku wzorcowego 1 wynosi: 14\n",
      "Miary niepodobienstwa dla znaku testowego nr 3 i znaku wzorcowego 2 wynosi: 7\n",
      "Miary niepodobienstwa dla znaku testowego nr 3 i znaku wzorcowego 3 wynosi: 1\n",
      "[[1, 5, 2], [15, 8, 3], [14, 7, 1]]\n"
     ]
    },
    {
     "data": {
      "image/png": "[encoded data removed]",
      "text/plain": [
       "<Figure size 1944x648 with 6 Axes>"
      ]
     },
     "metadata": {
      "needs_background": "light"
     },
     "output_type": "display_data"
    }
   ],
   "source": [
    "count=0\n",
    "wszystkie_m = []\n",
    "lista_znakow_wzorcowych = [znak_wzorcowy_1, znak_wzorcowy_2, znak_wzorcowy_3]\n",
    "\n",
    "plt.figure(figsize=(27, 9))  \n",
    "\n",
    "for znak in [znak_testowy_1, znak_testowy_2, znak_testowy_3]:\n",
    "    count+=1\n",
    "    wzor=0\n",
    "    miary = []\n",
    "    \n",
    "    for el in lista_znakow_wzorcowych:\n",
    "        wzor+=1\n",
    "        miara_niepodobienstwa = alg_zachlannego_dopasowania(znak, el)\n",
    "        miary.append(miara_niepodobienstwa)\n",
    "        print(f'Miary niepodobienstwa dla znaku testowego nr {count} i znaku wzorcowego {wzor} wynosi: {miara_niepodobienstwa}')\n",
    "    min_dist = min(miary)\n",
    "    miary.index(min_dist)\n",
    "    plt.subplot(3, 2, count * 2 - 1)\n",
    "    plt.imshow(znak, cmap='binary')\n",
    "    plt.title(f'Znak testowy {count}')\n",
    "\n",
    "    plt.subplot(3, 2, count * 2)\n",
    "    plt.imshow(lista_znakow_wzorcowych[miary.index(min_dist)], cmap='binary')\n",
    "    plt.title(f'Najbliższy wzorzec')\n",
    "   #         \n",
    "    wszystkie_m.append(miary)\n",
    "print(wszystkie_m)\n",
    "\n",
    "    \n"
   ]
  },
  {
   "cell_type": "code",
   "execution_count": 73,
   "id": "aa702eb2",
   "metadata": {},
   "outputs": [
    {
     "data": {
      "image/png": "[encoded data removed]",
      "text/plain": [
       "<Figure size 720x288 with 10 Axes>"
      ]
     },
     "metadata": {},
     "output_type": "display_data"
    },
    {
     "data": {
      "image/png": "[encoded data removed]",
      "text/plain": [
       "<Figure size 576x288 with 2 Axes>"
      ]
     },
     "metadata": {},
     "output_type": "display_data"
    },
    {
     "data": {
      "image/png": "[encoded data removed]",
      "text/plain": [
       "<Figure size 576x288 with 2 Axes>"
      ]
     },
     "metadata": {},
     "output_type": "display_data"
    },
    {
     "data": {
      "image/png": "[encoded data removed]",
      "text/plain": [
       "<Figure size 576x288 with 2 Axes>"
      ]
     },
     "metadata": {},
     "output_type": "display_data"
    },
    {
     "data": {
      "image/png": "[encoded data removed]",
      "text/plain": [
       "<Figure size 576x288 with 2 Axes>"
      ]
     },
     "metadata": {},
     "output_type": "display_data"
    },
    {
     "data": {
      "image/png": "[encoded data removed]",
      "text/plain": [
       "<Figure size 576x288 with 2 Axes>"
      ]
     },
     "metadata": {},
     "output_type": "display_data"
    }
   ],
   "source": [
    "import numpy as np\n",
    "import matplotlib.pyplot as plt\n",
    "\n",
    "class HopfieldNetworkAlgorithm:\n",
    "    @staticmethod\n",
    "    def initialize(size):\n",
    "        return np.zeros((size, size))\n",
    "\n",
    "    @staticmethod\n",
    "    def train_pattern(network, pattern, learning_rate=0.1):\n",
    "        size = len(network)\n",
    "        outer_product = np.outer(pattern, pattern)\n",
    "        np.fill_diagonal(outer_product, 0)\n",
    "        network += learning_rate * outer_product\n",
    "\n",
    "    @staticmethod\n",
    "    def recognize_pattern(network, pattern, max_iterations=10):\n",
    "        size = len(network)\n",
    "        recognized_pattern = pattern.copy()\n",
    "\n",
    "        for _ in range(max_iterations):\n",
    "            total_activation = network @ recognized_pattern\n",
    "            recognized_pattern = np.sign(total_activation)\n",
    "\n",
    "        return recognized_pattern\n",
    "\n",
    "def display_pattern(ax, pattern, title):\n",
    "    ax.imshow(pattern, cmap='binary', interpolation='nearest')\n",
    "    ax.set_title(title)\n",
    "    ax.set_xticks([])\n",
    "    ax.set_yticks([])\n",
    "\n",
    "patterns = [\n",
    "    np.array([\n",
    "        [1, 1, 0, 0, 0],\n",
    "        [0, 1, 0, 0, 0],\n",
    "        [0, 1, 0, 0, 0],\n",
    "        [0, 1, 0, 0, 0],\n",
    "        [0, 1, 0, 0, 0]\n",
    "    ]),\n",
    "    np.array([\n",
    "        [1, 0, 0, 0, 1],\n",
    "        [0, 1, 0, 1, 0],\n",
    "        [0, 0, 1, 0, 0],\n",
    "        [0, 1, 0, 1, 0],\n",
    "        [1, 0, 0, 0, 1]\n",
    "    ]),\n",
    "    np.array([\n",
    "        [0, 0, 1, 0, 0],\n",
    "        [0, 0, 1, 0, 0],\n",
    "        [1, 1, 1, 1, 1],\n",
    "        [0, 0, 1, 0, 0],\n",
    "        [0, 0, 1, 0, 0]\n",
    "    ]),\n",
    "    np.array([\n",
    "        [1, 0, 1, 0, 1],\n",
    "        [0, 1, 0, 1, 0],\n",
    "        [1, 0, 1, 0, 1],\n",
    "        [0, 1, 0, 1, 0],\n",
    "        [1, 0, 1, 0, 1]\n",
    "    ]),\n",
    "    np.array([\n",
    "        [1, 1, 1, 1, 1],\n",
    "        [1, 0, 0, 0, 1],\n",
    "        [1, 0, 0, 0, 1],\n",
    "        [1, 0, 0, 0, 1],\n",
    "        [1, 1, 1, 1, 1]\n",
    "    ])\n",
    "]\n",
    "\n",
    "tests = [\n",
    "    np.array([\n",
    "        [0, 1, 0, 0, 0],\n",
    "        [0, 1, 0, 0, 0],\n",
    "        [0, 1, 0, 0, 0],\n",
    "        [0, 1, 0, 0, 0],\n",
    "        [0, 1, 0, 0, 0]\n",
    "    ]),\n",
    "    np.array([\n",
    "        [1, 1, 0, 0, 1],\n",
    "        [0, 1, 0, 1, 0],\n",
    "        [0, 1, 1, 1, 0],\n",
    "        [0, 1, 0, 1, 0],\n",
    "        [1, 1, 0, 0, 1]\n",
    "    ]),\n",
    "    np.array([\n",
    "        [0, 0, 0, 0, 0],\n",
    "        [0, 0, 1, 0, 0],\n",
    "        [1, 1, 1, 1, 1],\n",
    "        [0, 0, 0, 0, 0],\n",
    "        [0, 0, 1, 0, 0]\n",
    "    ]),\n",
    "    np.array([\n",
    "        [1, 0, 1, 0, 1],\n",
    "        [0, 1, 1, 1, 0],\n",
    "        [1, 0, 0, 0, 1],\n",
    "        [0, 1, 1, 1, 0],\n",
    "        [1, 0, 1, 0, 1]\n",
    "    ]),\n",
    "    np.array([\n",
    "        [1, 1, 1, 1, 1],\n",
    "        [0, 0, 0, 0, 1],\n",
    "        [1, 0, 1, 0, 1],\n",
    "        [1, 0, 0, 0, 0],\n",
    "        [1, 1, 1, 1, 1]\n",
    "    ])\n",
    "]\n",
    "\n",
    "learning_rate = 0.2\n",
    "max_iterations_train = 5\n",
    "max_iterations_recognize = 15\n",
    "\n",
    "\n",
    "size = len(patterns[0].flatten())\n",
    "network = HopfieldNetworkAlgorithm.initialize(size)\n",
    "\n",
    "\n",
    "fig, (axs_patterns, axs_tests) = plt.subplots(2, len(patterns[0]), figsize=(2 * len(patterns[0]), 4))\n",
    "\n",
    "\n",
    "for i, pattern in enumerate(patterns):\n",
    "    display_pattern(axs_patterns[i], pattern, f\"Pattern {i + 1}\")\n",
    "\n",
    "\n",
    "for i, test in enumerate(tests):\n",
    "    display_pattern(axs_tests[i], test, f\"Test {i + 1}\")\n",
    "\n",
    "plt.show()\n",
    "\n",
    "for pattern in patterns:\n",
    "    pattern_flatten = pattern.flatten()\n",
    "    pattern_flatten[pattern_flatten == 0] = -1\n",
    "    HopfieldNetworkAlgorithm.train_pattern(network, pattern_flatten, learning_rate)\n",
    "\n",
    "\n",
    "for i, test in enumerate(tests):\n",
    "    test_flatten = test.flatten()\n",
    "    test_flatten[test_flatten == 0] = -1\n",
    "    recognized_pattern = HopfieldNetworkAlgorithm.recognize_pattern(network, test_flatten, max_iterations_recognize)\n",
    "    recognized_pattern = np.reshape(recognized_pattern, test.shape)\n",
    "\n",
    "    fig, axs = plt.subplots(1, 2, figsize=(8, 4))\n",
    "    display_pattern(axs[0], test, \"Test Pattern\")\n",
    "    display_pattern(axs[1], recognized_pattern, \"Recognized Pattern\")\n",
    "    plt.show()\n",
    "\n"
   ]
  },
  {
   "cell_type": "code",
   "execution_count": null,
   "id": "ef87f75a",
   "metadata": {},
   "outputs": [],
   "source": []
  }
 ],
 "metadata": {
  "kernelspec": {
   "display_name": "Python 3 (ipykernel)",
   "language": "python",
   "name": "python3"
  },
  "language_info": {
   "codemirror_mode": {
    "name": "ipython",
    "version": 3
   },
   "file_extension": ".py",
   "mimetype": "text/x-python",
   "name": "python",
   "nbconvert_exporter": "python",
   "pygments_lexer": "ipython3",
   "version": "3.9.12"
  }
 },
 "nbformat": 4,
 "nbformat_minor": 5
}
